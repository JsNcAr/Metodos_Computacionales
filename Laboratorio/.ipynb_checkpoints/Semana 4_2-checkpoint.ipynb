{
 "cells": [
  {
   "cell_type": "code",
   "execution_count": 2,
   "id": "5f1ad8df",
   "metadata": {},
   "outputs": [],
   "source": [
    "import numpy as np\n",
    "import matplotlib.pyplot as plt"
   ]
  },
  {
   "cell_type": "markdown",
   "id": "7bca157c",
   "metadata": {},
   "source": [
    "h=(b-a)/(N-1) "
   ]
  },
  {
   "cell_type": "code",
   "execution_count": 23,
   "id": "76ed38ee",
   "metadata": {},
   "outputs": [
    {
     "name": "stdout",
     "output_type": "stream",
     "text": [
      "-0.526489384240767 0.5426925702523313\n"
     ]
    }
   ],
   "source": [
    "a=0\n",
    "b=np.pi\n",
    "N = 30\n",
    "h =(b-a)/(N-1)\n",
    "x = np.linspace(a,b,N)\n",
    "f = np.sin(x)-x**2\n",
    "\n",
    "I_L = h*sum(f[:N-1])\n",
    "err = -8.335425-I_L\n",
    "\n",
    "I_R = h*sum(f[1::])\n",
    "err_R = -8.335425-I_R\n",
    "print(err, err_R)"
   ]
  },
  {
   "cell_type": "markdown",
   "id": "57ec2c41",
   "metadata": {},
   "source": [
    "# Trapezoide y Simpson"
   ]
  },
  {
   "cell_type": "code",
   "execution_count": 24,
   "id": "12cb5a96",
   "metadata": {},
   "outputs": [
    {
     "name": "stdout",
     "output_type": "stream",
     "text": [
      "0.008101593005781282\n"
     ]
    }
   ],
   "source": [
    "I_trap = 0.5*h*(sum(f[:N-1])+sum(f[1::]) )\n",
    "err_trap = -8.335425-I_trap\n",
    "print(err_trap)"
   ]
  }
 ],
 "metadata": {
  "kernelspec": {
   "display_name": "Python 3 (ipykernel)",
   "language": "python",
   "name": "python3"
  },
  "language_info": {
   "codemirror_mode": {
    "name": "ipython",
    "version": 3
   },
   "file_extension": ".py",
   "mimetype": "text/x-python",
   "name": "python",
   "nbconvert_exporter": "python",
   "pygments_lexer": "ipython3",
   "version": "3.9.7"
  }
 },
 "nbformat": 4,
 "nbformat_minor": 5
}
