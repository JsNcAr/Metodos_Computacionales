{
 "cells": [
  {
   "cell_type": "code",
   "execution_count": 1,
   "metadata": {
    "id": "oZ6paXBs3cWg"
   },
   "outputs": [],
   "source": [
    "import matplotlib.pyplot as plt\n",
    "import numpy as np\n",
    "import sympy as sym"
   ]
  },
  {
   "cell_type": "markdown",
   "metadata": {
    "id": "SlJXKiEmpVH0"
   },
   "source": [
    "<h1 style=\"color:red;\">Taller 2 metodos computacionales</h1>\n",
    "_______________________________________\n",
    "<ul>\n",
    "    <li>Johan Esteban Higuera Hurtado - 201629726</li> \n",
    "    <li>Sebastian Martínez Rodríguez - 201317474</li> \n",
    "    <li>Jason Nicolas Arias - 201820623</li> \n",
    "</ul>\n"
   ]
  },
  {
   "cell_type": "markdown",
   "metadata": {
    "id": "pcilhA_dpVH2"
   },
   "source": [
    "## Punto 3\n",
    "El disco hueco de la figura que se presenta a continuacion  \n",
    "\n",
    "<img src=\"https://lh3.googleusercontent.com/mAHm4n55RBddrpa9e9zvW6wAYODf0DGtHSmAd1hjRabSwcovSnA1XzwAyV4QGgCs-kUuxaB0zrEZV9pkR5-GuHqV5CgpXPBROJ5U21wYC8SCZ4fozcQw1iaVOqQq64ZWHwq0XnF0IsTfHDc7FfuvOOs_4gapNyYHZxXxe-ZXdwKaw9RdEAlw4dTB4zFu3MiLhM_Xn9RY3Iuo8TM_mGFhlqvC9agZrYgGRHOvUiyGhP1xkI8Rb_PQKV8-7Ge7My8FR8M3yWwnmd4dHKfvyKpXprpCdsZlsoZGDEAevONdVWS1g56OASLi8li8q-sAYTj6g591q02TLcQN7Mqoz1-X0njUTFv0RAS5O0GSyt42Uk6g8-Ci83f51p9WIycBTszBlM47Pt2MQfBYbP4wPlii3ktRDaU-a6-Q6dXATeXeHjIY6t-ndY8DTBG8R8y9QOXVSxpIkd_Cj6f0Ir4hb_dKsvp27C5a7H-K95TPY9lP_1aXlBfxiMSVagLtgsSQjJAFWFdl_92Ulr8CktMH6jTmslc9NHLqLlSM3_MjPljVGqTxztLHIN9K-WaeilpUZ-6xdfY09kRQMpP449yfcxlbgWM0dcgcqZOpUdIueAXo2Yr1NXfAQbnEElO_mlMkpk06ZMnS2kx13oyrDt75O205x1zhfeWbYpDNduAyXK0vzTF9JvDaaxNleEYNzOeLN0HcuMMrBW-svOXLx3U6eDnQkbChJw=w628-h591-no?authuser=0\" alt=\"Disco hueco\" width=\"300\" height=\"300\">\n",
    "\n",
    "tiene una densidad de carga no uniforme dada por\n",
    "$ \\sigma (r) = \\alpha r$, con $\\alpha$ una constante positiva.  \n",
    "tome en cuenta los siguientes valores numericos:\n",
    "\n",
    "$\\alpha = 0.5 \\frac{nC}{m^{3}}$  \n",
    "$R1 = 10cm$  \n",
    "$R2 = 20cm$  "
   ]
  },
  {
   "cell_type": "markdown",
   "metadata": {
    "id": "RUtMUKgapVH3"
   },
   "source": [
    "<p><b style=\"color:red; font-size:125%;\">a) </b>Encuentre la carga encerrada por este disco.</p> "
   ]
  },
  {
   "cell_type": "markdown",
   "metadata": {
    "id": "rVhntet0pVH3"
   },
   "source": [
    "Sabemos que la densidad de carga, es decir:  \n",
    "$\\frac{dq}{dA} = \\sigma (r) = \\alpha r$, por ende $\\int_{R1}^{R2}\\mathrm{d}q$ = $\\int_S\\sigma(r)\\mathrm{d}A $ Ahora para la segunda integral popdemos reescribir el dA de la forma $dA = rd\\theta dr$  \n",
    "$\\to$ Q(R2)-~~Q(R1)~~ = $ \\int_{R1}^{R2}\\int_{0}^{2\\pi}\\sigma(r)\\mathrm{d}\\theta\\mathrm{d}r \n",
    "=2\\pi \\alpha \\int_{R1}^{R2}r^{2}\\mathrm{d}r  = Q_{Total}$  \n",
    "Asi pues, podemos proceder a calcular esta integral numericamente para hallar la carga total del sistema"
   ]
  },
  {
   "cell_type": "markdown",
   "metadata": {},
   "source": [
    "Para realizar la integral numerica nos basamos en la regla del trapecio, obteniendo una integral de la forma: \n",
    "\n",
    "\\begin{equation}\n",
    "\\int_{a}^{b}f(x)dx\\approx h\\sum_{i=0}^{N-1}\\left[\\frac{f(x_{i})+f(x_{i+1})}{2}+\\mathcal{O}(h^{2})\\right].\n",
    "\\end{equation}"
   ]
  },
  {
   "cell_type": "code",
   "execution_count": 2,
   "metadata": {
    "colab": {
     "base_uri": "https://localhost:8080/"
    },
    "id": "EhEaZ2lMpVH4",
    "outputId": "d7c8e6d3-dd73-4ea3-ff09-682720273eec"
   },
   "outputs": [
    {
     "name": "stdout",
     "output_type": "stream",
     "text": [
      "La carga total del sistema es de 0.007329nC\n"
     ]
    }
   ],
   "source": [
    "#Primero definimos nuestras constantes dadas por el problema\n",
    "alpha = 0.5 #nC/m^3\n",
    "R1=0.1#m\n",
    "R2=0.2#m\n",
    "\n",
    "#Ahora definimos los parametros de la integral\n",
    "N = 10000\n",
    "h = (R2-R1)/(N)\n",
    "x = np.linspace(R1, R2, N)\n",
    "\n",
    "function = x**2\n",
    "\n",
    "#Realizamos la integral por regla del trapezoide\n",
    "integral = 0.5*h*(sum(function[0:N-1]) + sum(function[1:N-1]))\n",
    "\n",
    "#Ahora multiplicamos la integral por las constantes que obtuvimos para encontrar el resultado final\n",
    "Q = round(2*np.pi*alpha*integral,6)\n",
    "\n",
    "print(f\"La carga total del sistema es de {Q}nC\")"
   ]
  },
  {
   "cell_type": "markdown",
   "metadata": {
    "id": "hRZaG1C7pVH5"
   },
   "source": [
    "Para este sistema obtuvimos una carga total de 7.329$\\mu C$, lo cual podemos comprobar con el resultado analitico a traves de sympy"
   ]
  },
  {
   "cell_type": "code",
   "execution_count": 3,
   "metadata": {
    "colab": {
     "base_uri": "https://localhost:8080/"
    },
    "id": "5LdPzrq0pVH6",
    "outputId": "2210217d-7eda-43bd-f3df-5bbeb2ce424b"
   },
   "outputs": [
    {
     "name": "stdout",
     "output_type": "stream",
     "text": [
      "2*pi*0.5*0.00233333333333333=0.007330\n",
      "Carga total numerica = 0.007329, Carga total Analitica = 0.007330\n",
      "Error = 0.0136%\n"
     ]
    }
   ],
   "source": [
    "r_s = sym.Symbol(\"r\")#Se crea un r simbolico para usar en sympy\n",
    "sym_int=sym.integrate(r_s**2,(r_s,R1,R2))#Se realiza la integral analitica\n",
    "\n",
    "Q_a = round(2*np.pi*0.5*sym_int,6)#Se multiplica por las constantes para encontrar el resultado analitico\n",
    "\n",
    "print(f\"2*pi*0.5*{sym_int}={Q_a}\");\n",
    "print(f\"Carga total numerica = {Q}, Carga total Analitica = {Q_a}\\nError = {round( ((Q_a-Q)/Q_a)*100,4) }%\")"
   ]
  },
  {
   "cell_type": "markdown",
   "metadata": {
    "id": "L1ocClyopVH7"
   },
   "source": [
    "<p><b style=\"color:red; font-size:125%;\">b) </b>Usando el metodo de superposicion, calcule el potencial electrico a lo largo del eje z para el\n",
    "intervalo 0 ≤ z ≤ 1.5 m. </br>\n",
    "<b>Nota:</b> para hacer este calculo, puede tomar una grilla discreta en el intervalo dado anteriormente.</p> "
   ]
  },
  {
   "cell_type": "code",
   "execution_count": 4,
   "metadata": {
    "colab": {
     "base_uri": "https://localhost:8080/"
    },
    "id": "gvYrIrW658nL",
    "outputId": "69228438-69bc-4e93-bb6c-36a554819f96"
   },
   "outputs": [
    {
     "name": "stdout",
     "output_type": "stream",
     "text": [
      "0.0015475362371679504\n",
      "\n",
      "Potencial electrico:  [0.4235024  0.30099329 0.19341825 0.13779018 0.10604039 0.08589584\n",
      " 0.07207689 0.06204183 0.05443691 0.04848067 0.04369235]\n",
      "Distancia Z en metros:  [0.   0.15 0.3  0.45 0.6  0.75 0.9  1.05 1.2  1.35 1.5 ]\n"
     ]
    }
   ],
   "source": [
    "#Se crea un array en representacion del eje z entre 0 y 1.5m con intervalos de 0.15m\n",
    "Z = np.arange(0,1.5+0.01,0.15)\n",
    "R = [] #array donde se va a guardar el potencial electrico en cada punto de Z\n",
    "\n",
    "#Integracion numerica\n",
    "N=11\n",
    "z=0\n",
    "\n",
    "#funcion potencial electrico en un punto\n",
    "def v(x):\n",
    "    return x**2/np.sqrt(x**2+z**2)\n",
    "\n",
    "n=10\n",
    "\n",
    "for i in range(N): \n",
    "  a = 0.1\n",
    "  b = 0.2\n",
    "  dx = (b-a)/n\n",
    "  suma = 0\n",
    "  for i in range(n):\n",
    "    Area = (v(a)+v(a+dx))*dx/2\n",
    "    suma += Area\n",
    "    a += dx\n",
    "    \n",
    "  z += 0.15\n",
    "  R.append(suma)\n",
    "\n",
    "cte = 2*np.pi*8.987*0.5\n",
    "R1 = np.multiply(R,cte)\n",
    "\n",
    "print (suma)\n",
    "print (\"\\nPotencial electrico: \",R1);\n",
    "print (\"Distancia Z en metros: \",Z);\n"
   ]
  },
  {
   "cell_type": "markdown",
   "metadata": {
    "id": "AubjLSL3pVH9"
   },
   "source": [
    "<p><b style=\"color:red; font-size:125%;\">c) </b> Haga la grafica del potencial electrico obtenido como funcion de z.</p> "
   ]
  },
  {
   "cell_type": "code",
   "execution_count": 5,
   "metadata": {
    "colab": {
     "base_uri": "https://localhost:8080/",
     "height": 295
    },
    "id": "jw_VpF0caTON",
    "outputId": "a191713a-4748-46ee-da1f-0fb9de1e7946"
   },
   "outputs": [
    {
     "data": {
      "image/png": "[encoded data removed]",
      "text/plain": [
       "<Figure size 432x288 with 1 Axes>"
      ]
     },
     "metadata": {
      "needs_background": "light"
     },
     "output_type": "display_data"
    }
   ],
   "source": [
    "plt.plot(Z,R1)\n",
    "plt.xlabel('Distancia en Z [m]')\n",
    "plt.ylabel('Potencial electrico [V]')\n",
    "plt.title('Potencial electrico a lo largo del eje z')\n",
    "plt.show()"
   ]
  }
 ],
 "metadata": {
  "colab": {
   "collapsed_sections": [],
   "name": "Taller2.ipynb",
   "provenance": []
  },
  "kernelspec": {
   "display_name": "Python 3 (ipykernel)",
   "language": "python",
   "name": "python3"
  },
  "language_info": {
   "codemirror_mode": {
    "name": "ipython",
    "version": 3
   },
   "file_extension": ".py",
   "mimetype": "text/x-python",
   "name": "python",
   "nbconvert_exporter": "python",
   "pygments_lexer": "ipython3",
   "version": "3.9.7"
  }
 },
 "nbformat": 4,
 "nbformat_minor": 1
}
