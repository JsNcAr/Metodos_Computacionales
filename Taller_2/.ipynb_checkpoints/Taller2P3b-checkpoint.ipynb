{
 "cells": [
  {
   "cell_type": "code",
   "execution_count": 1,
   "metadata": {
    "id": "oZ6paXBs3cWg"
   },
   "outputs": [],
   "source": [
    "import matplotlib.pyplot as plt\n",
    "import numpy as np\n",
    "import math"
   ]
  },
  {
   "cell_type": "markdown",
   "metadata": {},
   "source": [
    "# Taller 2 metodos computacionales\n",
    "_______________________________________\n",
    "<ul>\n",
    "    <li>Nombre - codigo</li> \n",
    "    <li>Nombre - codigo</li> \n",
    "    <li>Jason Nicolas Arias - 201820623</li> \n",
    "</ul>"
   ]
  },
  {
   "cell_type": "markdown",
   "metadata": {},
   "source": [
    "## Punto 3\n",
    "El disco hueco de la figura que se presenta a continuacion\n",
    "<img src=\"disk.png\" alt=\"Disco hueco\" width=\"300\" height=\"300\">\n",
    "\n",
    "tiene una densidad de carga no uniforme dada por\n",
    "$ \\sigma (r) = \\alpha r$, con $\\alpha$ una constante positiva.  \n",
    "tome en cuenta los siguientes valores numericos:\n",
    "\n",
    "$\\alpha = 0.5 \\frac{nC}{m^{3}}$  \n",
    "$R1 = 10cm$  \n",
    "$R2 = 20cm$  "
   ]
  },
  {
   "cell_type": "markdown",
   "metadata": {},
   "source": [
    "<p><b style=\"color:red; font-size:125%;\">a) </b>Encuentre la carga encerrada por este disco.</p> "
   ]
  },
  {
   "cell_type": "markdown",
   "metadata": {},
   "source": [
    "<p><b style=\"color:red; font-size:125%;\">b) </b>Usando el metodo de superposicion, calcule el potencial electrico a lo largo del eje z para el\n",
    "intervalo 0 ≤ z ≤ 1.5 m. </br>\n",
    "<b>Nota:</b> para hacer este calculo, puede tomar una grilla discreta en el intervalo dado anteriormente.</p> "
   ]
  },
  {
   "cell_type": "markdown",
   "metadata": {},
   "source": [
    "<p><b style=\"color:red; font-size:125%;\">c) </b> Haga la grafica del potencial electrico obtenido como funcion de z.</p> "
   ]
  },
  {
   "cell_type": "code",
   "execution_count": 30,
   "metadata": {
    "colab": {
     "base_uri": "https://localhost:8080/"
    },
    "id": "gvYrIrW658nL",
    "outputId": "6f5c0a47-aa7e-4be5-b543-c19d7d7e1baf"
   },
   "outputs": [
    {
     "name": "stdout",
     "output_type": "stream",
     "text": [
      "0.0015475362371679504\n",
      "[0.4235024  0.30099329 0.19341825 0.13779018 0.10604039 0.08589584\n",
      " 0.07207689 0.06204183 0.05443691 0.04848067 0.04369235]\n",
      "[0.   0.15 0.3  0.45 0.6  0.75 0.9  1.05 1.2  1.35 1.5 ]\n"
     ]
    }
   ],
   "source": [
    "Z = np.arange(0,1.65,0.15)\n",
    "R = []\n",
    "N=11\n",
    "z=0\n",
    "for i in range(N):\n",
    "  \n",
    "  def v(x):\n",
    "    return x**2/np.sqrt(x**2+z**2)\n",
    "  n = 10\n",
    "  a = 0.1\n",
    "  b = 0.2\n",
    "  dx = (b-a)/n\n",
    "  suma = 0\n",
    "  for i in range(n):\n",
    "    Area =  (v(a)+v(a+dx))*dx/2\n",
    "    suma = suma + Area\n",
    "    a = a + dx\n",
    "  z = z + 0.15\n",
    "  R.append(suma)\n",
    "\n",
    "cte = 2*np.pi*8.987*0.5\n",
    "R1 = np.multiply(R,cte)\n",
    "\n",
    "print (suma)\n",
    "print (R1)\n",
    "print (Z)\n"
   ]
  },
  {
   "cell_type": "code",
   "execution_count": 32,
   "metadata": {
    "colab": {
     "base_uri": "https://localhost:8080/",
     "height": 295
    },
    "id": "jw_VpF0caTON",
    "outputId": "3962347e-720a-47b5-fde1-f38e942a3d9d"
   },
   "outputs": [
    {
     "data": {
      "image/png": "[encoded data removed]",
      "text/plain": [
       "<Figure size 432x288 with 1 Axes>"
      ]
     },
     "metadata": {
      "needs_background": "light"
     },
     "output_type": "display_data"
    }
   ],
   "source": [
    "plt.plot(Z,R1)\n",
    "plt.xlabel('Distancia en Z [m]')\n",
    "plt.ylabel('Potencial electrico [V]')\n",
    "plt.title('Potencial electrico a lo largo del eje z')\n",
    "plt.show()"
   ]
  }
 ],
 "metadata": {
  "colab": {
   "collapsed_sections": [],
   "name": "Taller2P3b.ipynb",
   "provenance": []
  },
  "kernelspec": {
   "display_name": "Python 3 (ipykernel)",
   "language": "python",
   "name": "python3"
  },
  "language_info": {
   "codemirror_mode": {
    "name": "ipython",
    "version": 3
   },
   "file_extension": ".py",
   "mimetype": "text/x-python",
   "name": "python",
   "nbconvert_exporter": "python",
   "pygments_lexer": "ipython3",
   "version": "3.9.7"
  }
 },
 "nbformat": 4,
 "nbformat_minor": 1
}
